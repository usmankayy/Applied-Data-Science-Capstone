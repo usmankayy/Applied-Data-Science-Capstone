{
 "cells": [
  {
   "cell_type": "markdown",
   "metadata": {},
   "source": [
    "# **The Battle of Neighborhoods: Opening a Restaurant Across Horizon** \n",
    "#### **Building models for segmentation of neighborhoods to find favorable locations for starting a fast food joint in the city of Toronto.**\n",
    "by: [Usman Khan](https://www.linkedin.com/in/usman-khan-458755163/)"
   ]
  },
  {
   "cell_type": "markdown",
   "metadata": {},
   "source": [
    "## **Introduction**"
   ]
  },
  {
   "cell_type": "markdown",
   "metadata": {},
   "source": [
    "### **Business Problem**"
   ]
  },
  {
   "cell_type": "markdown",
   "metadata": {},
   "source": [
    "<img src=\"logo.png\">"
   ]
  },
  {
   "cell_type": "markdown",
   "metadata": {},
   "source": [
    "Mirch Masala (fictitious) is a restaurant renowned for bringing the mouth-watering taste of Pakistani and Indian cuisine to your tables. Among the wide range of courses on the menu, their specialty lies in Biryani, Karahi, and Chicken Tikka. Their first outing in New York City was an enormous hit, and so the restaurant has set its eyes on expanding its business across the border in the city of Toronto. Home to a large population of immigrants from the subcontinent, Toronto shares a similar environment to New York. Thus, the project's goal is to figure out the city's most desirable locations for opening up Mirch Masala's new branch. \n",
    "\n",
    "To ensure the success of our project, the stakeholders require insights into the demographics and the neighboring businesses. For instance:\n",
    "\n",
    "* The number of eateries present in each neighborhood,\n",
    "* The most popular restaurants (both similar and different cuisines),\n",
    "* The traffic of our targeted demographic,\n",
    "* And the frequency of our targeted audience.\n",
    "\n",
    "As this project has a lot of aspects to be taken into account, it is open for discussion and targeted towards the entrepreneurs and stakeholders. This project gives Data Scientists/Analysts the opportunity to apply their knowledge of data science and subsequent analytical skills in order to assess, evaluate and provide inputs to the challenge"
   ]
  }
 ],
 "metadata": {
  "kernelspec": {
   "display_name": "Python",
   "language": "python",
   "name": "conda-env-python-py"
  },
  "language_info": {
   "codemirror_mode": {
    "name": "ipython",
    "version": 3
   },
   "file_extension": ".py",
   "mimetype": "text/x-python",
   "name": "python",
   "nbconvert_exporter": "python",
   "pygments_lexer": "ipython3",
   "version": "3.6.11"
  }
 },
 "nbformat": 4,
 "nbformat_minor": 4
}

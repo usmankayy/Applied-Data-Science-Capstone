{
 "cells": [
  {
   "cell_type": "markdown",
   "metadata": {},
   "source": [
    "# **The Battle of Neighborhoods: Opening a Restaurant Across Horizon** \n",
    "#### **Building models for segmentation of neighborhoods to find favorable locations for starting a fast food joint in the city of Toronto.**\n",
    "by: [Usman Khan](https://www.linkedin.com/in/usman-khan-458755163/)"
   ]
  },
  {
   "cell_type": "markdown",
   "metadata": {},
   "source": [
    "### **Description of Data**"
   ]
  },
  {
   "cell_type": "markdown",
   "metadata": {},
   "source": [
    "The data required are mentioned below:\n",
    "\n",
    "* 1st Data:\n",
    "Recent most updated record of traffic signal -  vehicle and pedestrian volumes in Toronto. This data is typically collected between 7:30 a.m. and 6:00 p.m at intersections where there are traffic signals.\n",
    "    \n",
    "* 2nd Data: \n",
    "The list of neighborhoods in Toronto represented by postal codes and their boroughs. We will be using the Geocoder Python package in order to retrieve the postal code's coordinates.\n",
    "\n",
    "* 3rd Data: \n",
    "The most common venues of a given neighborhood in Toronto. This information is stored inside Foursquare Location Data, and we will use Foursquare API in order to access it.\n",
    "\n",
    "To recap, we will use the 1st Data to analyze the pedestrian/vehicle volume. Then, we load the 2nd Data to obtain the exact coordinates for each neighborhood based on their respective postal code, allowing us to explore and map the city. By using those coordinates and Foursquare credentials, we will access the 3rd Data source through Foursquare API,  and retrieve the popular venues along with their details, especially for restaurants irrespective of their cuisine."
   ]
  }
 ],
 "metadata": {
  "kernelspec": {
   "display_name": "Python",
   "language": "python",
   "name": "conda-env-python-py"
  },
  "language_info": {
   "codemirror_mode": {
    "name": "ipython",
    "version": 3
   },
   "file_extension": ".py",
   "mimetype": "text/x-python",
   "name": "python",
   "nbconvert_exporter": "python",
   "pygments_lexer": "ipython3",
   "version": "3.6.11"
  }
 },
 "nbformat": 4,
 "nbformat_minor": 4
}
